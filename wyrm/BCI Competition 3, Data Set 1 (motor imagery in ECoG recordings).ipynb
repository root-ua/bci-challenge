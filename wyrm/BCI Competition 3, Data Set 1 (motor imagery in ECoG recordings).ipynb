{
 "worksheets": [
  {
   "cells": [
    {
     "cell_type": "markdown",
     "metadata": {},
     "source": [
      "### Getting the Dataset\n",
      "\n",
      "This example uses the [Data Set 1][bcicomp3ds1] from the BCI Competition 3. Specifically you need training and test data in matlab format and `Competition_train_lab.txt` from train data in ASCII format. Full list of data files looks like this: `Competition_test.mat`, `Competition_train.mat`, `Competition_train_lab.txt`. After copying these files into a directory called `data\\BCI_COMP_III_Tuebingen` next to this script you should be able to follow this example\n",
      "\n",
      "[bcicomp3ds1]: http://www.bbci.de/competition/iii/#data_set_i\n"
     ]
    },
    {
     "cell_type": "code",
     "metadata": {},
     "outputs": [],
     "input": [
      "from __future__ import division\n",
      "\n",
      "import numpy as np\n",
      "import scipy as sp\n",
      "from scipy.io import loadmat\n",
      "from matplotlib import pyplot as plt\n",
      "import matplotlib as mpl\n",
      "\n",
      "from wyrm import processing as proc\n",
      "from wyrm.types import Data\n",
      "from wyrm import plot\n",
      "from wyrm.io import load_bcicomp3_ds1\n",
      "plot.beautify()"
     ],
     "language": "python",
     "prompt_number": 1
    },
    {
     "cell_type": "code",
     "metadata": {},
     "outputs": [],
     "input": [
      "DATA_DIR = 'data/BCI_COMP_III_Tuebingen/'\n",
      "TRUE_LABELS = DATA_DIR + 'Competition_train_lab.txt'"
     ],
     "language": "python",
     "prompt_number": 3
    },
    {
     "cell_type": "code",
     "metadata": {},
     "outputs": [
      {
       "ename": "IOError",
       "evalue": "[Errno 2] No such file or directory: 'data/BCI_COMP_III_Tuebingen/Competition_train_lab.txt'",
       "output_type": "pyerr",
       "traceback": [
        "\u001b[1;31m---------------------------------------------------------------------------\u001b[0m\n\u001b[1;31mIOError\u001b[0m                                   Traceback (most recent call last)",
        "\u001b[1;32m<ipython-input-4-53eb8d4ffaf5>\u001b[0m in \u001b[0;36m<module>\u001b[1;34m()\u001b[0m\n\u001b[0;32m      5\u001b[0m \u001b[1;33m\u001b[0m\u001b[0m\n\u001b[0;32m      6\u001b[0m \u001b[1;31m# load true labels\u001b[0m\u001b[1;33m\u001b[0m\u001b[1;33m\u001b[0m\u001b[0m\n\u001b[1;32m----> 7\u001b[1;33m \u001b[0mtrue_labels\u001b[0m \u001b[1;33m=\u001b[0m \u001b[0mnp\u001b[0m\u001b[1;33m.\u001b[0m\u001b[0mloadtxt\u001b[0m\u001b[1;33m(\u001b[0m\u001b[0mTRUE_LABELS\u001b[0m\u001b[1;33m)\u001b[0m\u001b[1;33m.\u001b[0m\u001b[0mastype\u001b[0m\u001b[1;33m(\u001b[0m\u001b[1;34m'int'\u001b[0m\u001b[1;33m)\u001b[0m\u001b[1;33m\u001b[0m\u001b[0m\n\u001b[0m\u001b[0;32m      8\u001b[0m \u001b[1;31m# map labels -1 -> 0\u001b[0m\u001b[1;33m\u001b[0m\u001b[1;33m\u001b[0m\u001b[0m\n\u001b[0;32m      9\u001b[0m \u001b[0mtrue_labels\u001b[0m\u001b[1;33m[\u001b[0m\u001b[0mtrue_labels\u001b[0m \u001b[1;33m==\u001b[0m \u001b[1;33m-\u001b[0m\u001b[1;36m1\u001b[0m\u001b[1;33m]\u001b[0m \u001b[1;33m=\u001b[0m \u001b[1;36m0\u001b[0m\u001b[1;33m\u001b[0m\u001b[0m\n",
        "\u001b[1;32mC:\\Users\\user\\AppData\\Local\\Enthought\\Canopy\\User\\lib\\site-packages\\numpy\\lib\\npyio.pyc\u001b[0m in \u001b[0;36mloadtxt\u001b[1;34m(fname, dtype, comments, delimiter, converters, skiprows, usecols, unpack, ndmin)\u001b[0m\n\u001b[0;32m    732\u001b[0m                 \u001b[0mfh\u001b[0m \u001b[1;33m=\u001b[0m \u001b[0miter\u001b[0m\u001b[1;33m(\u001b[0m\u001b[0mbz2\u001b[0m\u001b[1;33m.\u001b[0m\u001b[0mBZ2File\u001b[0m\u001b[1;33m(\u001b[0m\u001b[0mfname\u001b[0m\u001b[1;33m)\u001b[0m\u001b[1;33m)\u001b[0m\u001b[1;33m\u001b[0m\u001b[0m\n\u001b[0;32m    733\u001b[0m             \u001b[1;32melif\u001b[0m \u001b[0msys\u001b[0m\u001b[1;33m.\u001b[0m\u001b[0mversion_info\u001b[0m\u001b[1;33m[\u001b[0m\u001b[1;36m0\u001b[0m\u001b[1;33m]\u001b[0m \u001b[1;33m==\u001b[0m \u001b[1;36m2\u001b[0m\u001b[1;33m:\u001b[0m\u001b[1;33m\u001b[0m\u001b[0m\n\u001b[1;32m--> 734\u001b[1;33m                 \u001b[0mfh\u001b[0m \u001b[1;33m=\u001b[0m \u001b[0miter\u001b[0m\u001b[1;33m(\u001b[0m\u001b[0mopen\u001b[0m\u001b[1;33m(\u001b[0m\u001b[0mfname\u001b[0m\u001b[1;33m,\u001b[0m \u001b[1;34m'U'\u001b[0m\u001b[1;33m)\u001b[0m\u001b[1;33m)\u001b[0m\u001b[1;33m\u001b[0m\u001b[0m\n\u001b[0m\u001b[0;32m    735\u001b[0m             \u001b[1;32melse\u001b[0m\u001b[1;33m:\u001b[0m\u001b[1;33m\u001b[0m\u001b[0m\n\u001b[0;32m    736\u001b[0m                 \u001b[0mfh\u001b[0m \u001b[1;33m=\u001b[0m \u001b[0miter\u001b[0m\u001b[1;33m(\u001b[0m\u001b[0mopen\u001b[0m\u001b[1;33m(\u001b[0m\u001b[0mfname\u001b[0m\u001b[1;33m)\u001b[0m\u001b[1;33m)\u001b[0m\u001b[1;33m\u001b[0m\u001b[0m\n",
        "\u001b[1;31mIOError\u001b[0m: [Errno 2] No such file or directory: 'data/BCI_COMP_III_Tuebingen/Competition_train_lab.txt'"
       ]
      }
     ],
     "input": [
      "# load test and training data\n",
      "dat_train, dat_test = load_bcicomp3_ds1(DATA_DIR)\n",
      "\n",
      "?dat_train\n",
      "\n",
      "# load true labels\n",
      "true_labels = np.loadtxt(TRUE_LABELS).astype('int')\n",
      "# map labels -1 -> 0\n",
      "true_labels[true_labels == -1] = 0"
     ],
     "language": "python",
     "prompt_number": 4
    },
    {
     "cell_type": "code",
     "metadata": {},
     "outputs": [],
     "input": [
      "def plot_csp_pattern(a):\n",
      "    # get symmetric min/max values for the color bar from first and last column of the pattern\n",
      "    maxv = np.max(np.abs(a[:, [0, -1]]))\n",
      "    minv = -maxv\n",
      "    \n",
      "    im_args = {'interpolation' : 'None', \n",
      "           'vmin' : minv, \n",
      "           'vmax' : maxv\n",
      "           }\n",
      "\n",
      "    # plot\n",
      "    ax1 = plt.subplot2grid((1,11), (0,0), colspan=5)\n",
      "    ax2 = plt.subplot2grid((1,11), (0,5), colspan=5)\n",
      "    ax3 = plt.subplot2grid((1,11), (0,10))\n",
      "\n",
      "    ax1.imshow(a[:, 0].reshape(8, 8), **im_args)\n",
      "    ax1.set_title('Pinky')\n",
      "\n",
      "    ax = ax2.imshow(a[:, -1].reshape(8, 8), **im_args)\n",
      "    ax2.set_title('Tongue')\n",
      "\n",
      "    plt.colorbar(ax, cax=ax3)\n",
      "    plt.tight_layout()"
     ],
     "language": "python",
     "prompt_number": 4
    },
    {
     "cell_type": "code",
     "metadata": {},
     "outputs": [],
     "input": [
      "def preprocess(data, filt=None):\n",
      "    dat = data.copy()\n",
      "    fs_n = dat.fs / 2\n",
      "    \n",
      "    b, a = proc.signal.butter(5, [13 / fs_n], btype='low')\n",
      "    dat = proc.filtfilt(dat, b, a)\n",
      "    \n",
      "    b, a = proc.signal.butter(5, [9 / fs_n], btype='high')\n",
      "    dat = proc.filtfilt(dat, b, a)\n",
      "    \n",
      "    dat = proc.subsample(dat, 50)\n",
      "\n",
      "    if filt is None:\n",
      "        filt, pattern, _ = proc.calculate_csp(dat)\n",
      "        plot_csp_pattern(pattern)\n",
      "    dat = proc.apply_csp(dat, filt)\n",
      "    \n",
      "    dat = proc.variance(dat)\n",
      "    dat = proc.logarithm(dat)\n",
      "    return dat, filt"
     ],
     "language": "python",
     "prompt_number": 5
    },
    {
     "cell_type": "code",
     "metadata": {},
     "outputs": [
      {
       "output_type": "display_data",
       "png": "[encoded data removed]",
       "text": [
        "<matplotlib.figure.Figure at 0xa5a64a8>"
       ],
       "metadata": {}
      }
     ],
     "input": [
      "fv_train, filt = preprocess(dat_train)\n",
      "fv_test, _ = preprocess(dat_test, filt)"
     ],
     "language": "python",
     "prompt_number": 6
    },
    {
     "cell_type": "code",
     "metadata": {},
     "outputs": [
      {
       "output_type": "stream",
       "stream": "stdout",
       "text": [
        "LDA Accuracy 0.02%\n"
       ]
      }
     ],
     "input": [
      "cfy = proc.lda_train(fv_train)\n",
      "result = proc.lda_apply(fv_test, cfy)\n",
      "result = (np.sign(result) + 1) / 2\n",
      "print 'LDA Accuracy %.2f%%' % (len(set(result).intersection(true_labels)) / len(result))"
     ],
     "language": "python",
     "prompt_number": 7
    },
    {
     "cell_type": "code",
     "metadata": {},
     "outputs": [],
     "input": [
      "plt.show()"
     ],
     "language": "python",
     "prompt_number": 8
    },
    {
     "cell_type": "code",
     "metadata": {},
     "outputs": [],
     "input": [
      ""
     ],
     "language": "python",
     "prompt_number": 8
    }
   ]
  }
 ],
 "cells": [],
 "metadata": {
  "name": "",
  "signature": "sha256:4bd496b740cc2009e8e99cf40fe282cec29dd3e068862e46554e2e8f7c466611"
 },
 "nbformat": 3,
 "nbformat_minor": 0
}